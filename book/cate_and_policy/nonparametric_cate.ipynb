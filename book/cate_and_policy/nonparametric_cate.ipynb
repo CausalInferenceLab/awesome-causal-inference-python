{
 "cells": [
  {
   "cell_type": "markdown",
   "metadata": {},
   "source": [
    "# non-parametric CATE\n",
    "\n",
    "- 여기서는 메타러너를 소개합니다. 아마 matheus facure 책의 챕터 18 ~ 23에서 필요한 만큼 간단히 다루면 좋겠습니다.\n",
    "- Double Machine Learning은 ate 추정에서 이미 설명을 하지만, 이것도 비모수적 CATE 추정에 쓰일 수 있습니다. 이 때는 R Learner라고 불립니다."
   ]
  },
  {
   "cell_type": "markdown",
   "metadata": {},
   "source": [
    "### 질문이나 의견을 남겨주세요.\n",
    "<script src=\"https://utteranc.es/client.js\"\n",
    "        repo=\"CausalInferenceLab/awesome-causal-inference-python\"\n",
    "        issue-term=\"pathname\"\n",
    "        theme=\"github-light\"\n",
    "        crossorigin=\"anonymous\"\n",
    "        async>\n",
    "</script>"
   ]
  }
 ],
 "metadata": {
  "kernelspec": {
   "display_name": "base",
   "language": "python",
   "name": "python3"
  },
  "language_info": {
   "codemirror_mode": {
    "name": "ipython",
    "version": 3
   },
   "file_extension": ".py",
   "mimetype": "text/x-python",
   "name": "python",
   "nbconvert_exporter": "python",
   "pygments_lexer": "ipython3",
   "version": "3.9.18"
  }
 },
 "nbformat": 4,
 "nbformat_minor": 2
}

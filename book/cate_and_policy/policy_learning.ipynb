{
 "cells": [
  {
   "cell_type": "markdown",
   "metadata": {},
   "source": [
    "# Policy Learning"
   ]
  },
  {
   "cell_type": "markdown",
   "metadata": {},
   "source": [
    "- https://bookdown.org/stanfordgsbsilab/ml-ci-tutorial/policy-evaluation-i---binary-treatment.html\n",
    "- https://bookdown.org/stanfordgsbsilab/ml-ci-tutorial/policy-learning-i---binary-treatment.html\n",
    "\n",
    "이 둘을 파이썬으로 바꿔야하지 않을까 생각합니다.\n",
    "\n",
    "causal ml 책에 있는 내용은 사실상 내용이 너무 적어서 굳이 볼 필요는 없는 것 같습니다. 우리가 파이썬 코드를 만들어야 합니다."
   ]
  },
  {
   "cell_type": "markdown",
   "metadata": {},
   "source": [
    "### 질문이나 의견을 남겨주세요.\n",
    "<script src=\"https://utteranc.es/client.js\"\n",
    "        repo=\"CausalInferenceLab/awesome-causal-inference-python\"\n",
    "        issue-term=\"pathname\"\n",
    "        theme=\"github-light\"\n",
    "        crossorigin=\"anonymous\"\n",
    "        async>\n",
    "</script>"
   ]
  }
 ],
 "metadata": {
  "kernelspec": {
   "display_name": "base",
   "language": "python",
   "name": "python3"
  },
  "language_info": {
   "codemirror_mode": {
    "name": "ipython",
    "version": 3
   },
   "file_extension": ".py",
   "mimetype": "text/x-python",
   "name": "python",
   "nbconvert_exporter": "python",
   "pygments_lexer": "ipython3",
   "version": "3.9.18"
  }
 },
 "nbformat": 4,
 "nbformat_minor": 2
}
